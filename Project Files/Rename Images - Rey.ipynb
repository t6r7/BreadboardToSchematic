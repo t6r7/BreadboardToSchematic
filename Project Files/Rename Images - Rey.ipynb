{
 "cells": [
  {
   "cell_type": "code",
   "execution_count": 2,
   "metadata": {},
   "outputs": [],
   "source": [
    "import os\n",
    "from os import listdir\n",
    "from os.path import isfile, join\n",
    "\n",
    "def renameImages(confNumber,numlighting):\n",
    "    lightingorder1 = [1,3,2,2,3,1]\n",
    "    lightingorder = [1,2,2,1]\n",
    "    ratioorder = [1,1,2,2]\n",
    "    ratioorder1 = [1,1,1,2,2,2]\n",
    "    path = \"TempFolder\"\n",
    "    onlyfiles = [f for f in listdir(path) if isfile(join(path, f))]\n",
    "    if(numlighting == 1):\n",
    "        for i in range(0,6):\n",
    "            os.rename(join(path,onlyfiles[i]) ,join(path,str(confNumber)+\"_\"+str(ratioorder1[i])+\"_\"+str(lightingorder1[i])+\".png\"))\n",
    "    else:\n",
    "         for i in range(0,4):\n",
    "            os.rename(join(path,onlyfiles[i]) ,join(path,str(confNumber)+\"_\"+str(ratioorder[i])+\"_\"+str(lightingorder[i])+\".png\"))\n"
   ]
  },
  {
   "cell_type": "code",
   "execution_count": 13,
   "metadata": {},
   "outputs": [],
   "source": [
    "renameImages(162,1)"
   ]
  },
  {
   "cell_type": "code",
   "execution_count": null,
   "metadata": {},
   "outputs": [],
   "source": []
  }
 ],
 "metadata": {
  "kernelspec": {
   "display_name": "Python 3",
   "language": "python",
   "name": "python3"
  },
  "language_info": {
   "codemirror_mode": {
    "name": "ipython",
    "version": 3
   },
   "file_extension": ".py",
   "mimetype": "text/x-python",
   "name": "python",
   "nbconvert_exporter": "python",
   "pygments_lexer": "ipython3",
   "version": "3.7.3"
  }
 },
 "nbformat": 4,
 "nbformat_minor": 2
}
