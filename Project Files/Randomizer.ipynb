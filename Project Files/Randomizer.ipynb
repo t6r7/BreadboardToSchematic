{
 "cells": [
  {
   "cell_type": "code",
   "execution_count": null,
   "metadata": {},
   "outputs": [
    {
     "name": "stdout",
     "output_type": "stream",
     "text": [
      "Number of Wires:  8\n",
      "Small wires:  2\n",
      "Medium wires:  3\n",
      "Large wires:  3\n"
     ]
    }
   ],
   "source": [
    "###RANDOMIZER####\n",
    "#Run this to randomize the wires\n",
    "import random\n",
    "from IPython.display import clear_output\n",
    "def randomDraws():\n",
    "    wireSizeList = [\"Small\",\"Medium\",\"Large\"]\n",
    "    sizingList = []\n",
    "    wireNumList = [2,3,4,5,6,7,8,9,10,11]\n",
    "    numWires = wireNumList[random.randint(0,len(wireNumList)-1)]\n",
    "    for i in range(0,numWires):\n",
    "        sizingList.append(wireSizeList[random.randint(0,2)])\n",
    "        \n",
    "    \n",
    "    print(\"Number of Wires: \",numWires)\n",
    "    print(\"Small wires: \", sizingList.count(\"Small\"))\n",
    "    print(\"Medium wires: \", sizingList.count(\"Medium\"))\n",
    "    print(\"Large wires: \", sizingList.count(\"Large\"))\n",
    "\n",
    "k = \"\"\n",
    "while True:\n",
    "    # exit the loop by entering the letter \"e\"\n",
    "    if(k == \"e\"):\n",
    "        break\n",
    "    else:\n",
    "        randomDraws() \n",
    "    k = input()\n",
    "    clear_output(wait=True)"
   ]
  },
  {
   "cell_type": "code",
   "execution_count": null,
   "metadata": {},
   "outputs": [],
   "source": []
  }
 ],
 "metadata": {
  "kernelspec": {
   "display_name": "Python 3",
   "language": "python",
   "name": "python3"
  },
  "language_info": {
   "codemirror_mode": {
    "name": "ipython",
    "version": 3
   },
   "file_extension": ".py",
   "mimetype": "text/x-python",
   "name": "python",
   "nbconvert_exporter": "python",
   "pygments_lexer": "ipython3",
   "version": "3.7.3"
  }
 },
 "nbformat": 4,
 "nbformat_minor": 2
}
